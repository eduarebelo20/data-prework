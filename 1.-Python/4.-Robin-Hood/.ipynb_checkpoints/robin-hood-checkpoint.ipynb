{
 "cells": [
  {
   "cell_type": "markdown",
   "metadata": {},
   "source": [
    "<img src=\"https://bit.ly/2VnXWr2\" width=\"100\" align=\"left\"/>"
   ]
  },
  {
   "cell_type": "markdown",
   "metadata": {},
   "source": [
    "# Robin Hood\n",
    "Robin Hood has entered a competition to win the archery contest in Sherwood. With his bow and arrows, he needs to shoot on a target and try to hit as close as possible to the center.\n",
    "\n",
    "![](images/arrows.jpg)\n",
    "\n",
    "## Context\n",
    "In this challenge, the landing position of arrows shot by archers in the competition will be represented using 2-dimensional coordinates. \n",
    "\n",
    "In the 2-dimensional space, a point can be defined by a pair of values that correspond to the horizontal coordinate (x) and the vertical coordinate (y). For example, in our case, an arrow that hits the center of the archery target will land in position (0, 0) on the coordinate axes. \n",
    "\n",
    "The space can be divided into 4 zones (quadrants): Q1, Q2, Q3, Q4. If a point is in Q1, both its x coordinate and y coordinate are positive. Any point with a null x or y coordinate is considered to not belong to any quadrant. \n",
    "\n",
    "If you want to know more about the cartesian coordinate system, you can check this [link](https://en.wikipedia.org/wiki/Cartesian_coordinate_system). \n",
    "\n",
    "## Tools\n",
    "You don't necessarily need to use all the tools. Maybe you opt to use some of them or completely different ones, they are given to help you shape the exercise. Programming exercises can be solved in many different ways.\n",
    "* Data structures: **lists, sets, tuples**\n",
    "* Conditional statements: **if-elif-else**\n",
    "* Loop: **while/for**\n",
    "* Minimum (optional sorting)\n",
    "\n",
    "## Tasks\n",
    "Robin Hood has hit the following points:"
   ]
  },
  {
   "cell_type": "code",
   "execution_count": 15,
   "metadata": {},
   "outputs": [],
   "source": [
    "points = [(4, 5), (-0, 2), (4, 7), (1, -3), (3, -2), (4, 5), (3, 2), (5, 7), (-5, 7), (2, 2), (-4, 5), (0, -2),\n",
    "          (-4, 7), (-1, 3), (-3, 2), (-4, -5), (-3, 2), (5, 7), (5, 7), (2, 2), (9, 9), (-8, -9)]"
   ]
  },
  {
   "cell_type": "markdown",
   "metadata": {},
   "source": [
    "#### 1. Robin Hood is famous for hitting an arrow with another arrow. Find the coordinates of the points where an arrow hits another arrow."
   ]
  },
  {
   "cell_type": "code",
   "execution_count": 21,
   "metadata": {},
   "outputs": [
    {
     "name": "stdout",
     "output_type": "stream",
     "text": [
      "[[4, 5], [0, 2], [4, 7], [1, -3], [3, -2], [4, 5], [3, 2], [5, 7], [5, 7], [5, 7], [-5, 7], [2, 2], [2, 2], [-4, 5], [0, -2], [-4, 7], [-1, 3], [-3, 2], [-3, 2], [-4, -5], [-3, 2], [-3, 2], [5, 7], [5, 7], [5, 7], [5, 7], [5, 7], [5, 7], [2, 2], [2, 2], [9, 9], [-8, -9]]\n"
     ]
    }
   ],
   "source": [
    "new_list = []\n",
    "arrow_hits_arrow = []\n",
    "x = 1\n",
    "\n",
    "for i in points:\n",
    "    new_list.append(list(i))\n",
    "\n",
    "for point in new_list:\n",
    "    for x in range(1, len(new_list)):\n",
    "        if point == new_list[x]:\n",
    "            arrow_hits_arrow.append(new_list[x])\n",
    "        \n",
    "\n",
    "print(arrow_hits_arrow)"
   ]
  },
  {
   "cell_type": "markdown",
   "metadata": {},
   "source": [
    "#### 2. Calculate how many arrows have fallen in each quadrant. \n",
    "**Note**: the arrows that fall in the axis (x=0 or y=0) don't belong to any quadrant."
   ]
  },
  {
   "cell_type": "code",
   "execution_count": 38,
   "metadata": {},
   "outputs": [
    {
     "name": "stdout",
     "output_type": "stream",
     "text": [
      "10 arrows fall in Q1, 8 arrows fall in Q2, 0 arrows fall in Q3, 0 arrow fall in Q4.\n"
     ]
    }
   ],
   "source": [
    "Q1 = 0\n",
    "Q2 = 0\n",
    "Q3 = 0\n",
    "Q4 = 0\n",
    "b = 0\n",
    "\n",
    "while b < len(new_list):\n",
    "    if (new_list[b][0] > 0) & (new_list[b][1] > 0):\n",
    "        Q1 += 1\n",
    "    elif (new_list[b][0]) < 0 & (new_list[b][1] > 0):\n",
    "        Q2 += 1\n",
    "    elif (new_list[b][0]) < 0 & (new_list[b][1]) < 0:\n",
    "        Q3 += 1\n",
    "    elif (new_list[b][0]) > 0 & (new_list[b][1]) < 0:\n",
    "        Q4 += 1\n",
    "   \n",
    "    b += 1\n",
    "\n",
    "\n",
    "print(Q1, \"arrows fall in Q1,\", Q2, \"arrows fall in Q2,\", Q3, \"arrows fall in Q3,\", Q4, \"arrow fall in Q4.\")"
   ]
  },
  {
   "cell_type": "markdown",
   "metadata": {},
   "source": [
    "#### 3. Find the point closest to the center. Calculate its distance to the center. \n",
    "Take into account that there might be more than one point at the minimum distance to the center.\n",
    "\n",
    "**Hint**: Use the Euclidean distance. You can find more information about it [here](https://en.wikipedia.org/wiki/Euclidean_distance).  \n",
    "**Hint**: Defining a function that calculates the distance to the center can help."
   ]
  },
  {
   "cell_type": "code",
   "execution_count": 53,
   "metadata": {},
   "outputs": [
    {
     "data": {
      "text/plain": [
       "12.727922061357855"
      ]
     },
     "execution_count": 53,
     "metadata": {},
     "output_type": "execute_result"
    }
   ],
   "source": [
    "x = 0\n",
    "y = 0\n",
    "i = 0\n",
    "Euclidean_list = []\n",
    "\n",
    "def Euclidean_distance(x, y):\n",
    "    \"\"\"Calculates the Euclidean distance between two points with cartesian coordinates\"\"\"\n",
    "    distancia = ((x-0)**2 + (y-0)**2)**(1/2)\n",
    "    return distancia\n",
    "\n",
    "while i < len(new_list):\n",
    "    x = new_list[i][0]\n",
    "    y = new_list[i][1]\n",
    "    \n",
    "    Euclidean_list.append(Euclidean_distance(x,y))\n",
    "    \n",
    "    i += 1\n",
    "\n",
    "max(Euclidean_list)"
   ]
  },
  {
   "cell_type": "markdown",
   "metadata": {},
   "source": [
    "#### 4. If the archery target has a radius of 9, calculate the number of arrows that won't hit the target. \n",
    "**Hint**: Use the function created in step 3. "
   ]
  },
  {
   "cell_type": "code",
   "execution_count": 60,
   "metadata": {},
   "outputs": [
    {
     "name": "stdout",
     "output_type": "stream",
     "text": [
      "There are 2 arrows that don't hit the target.\n"
     ]
    }
   ],
   "source": [
    "does_not_hit = 0\n",
    "i = 0\n",
    "\n",
    "while i < len(new_list):\n",
    "    x = new_list[i][0]\n",
    "    y = new_list[i][1]\n",
    "    \n",
    "    if Euclidean_distance(x,y) > 9:\n",
    "        does_not_hit += 1\n",
    "        \n",
    "    i += 1\n",
    "        \n",
    "print(\"There are\", does_not_hit,\"arrows that don't hit the target.\")"
   ]
  }
 ],
 "metadata": {
  "kernelspec": {
   "display_name": "Python 3",
   "language": "python",
   "name": "python3"
  },
  "language_info": {
   "codemirror_mode": {
    "name": "ipython",
    "version": 3
   },
   "file_extension": ".py",
   "mimetype": "text/x-python",
   "name": "python",
   "nbconvert_exporter": "python",
   "pygments_lexer": "ipython3",
   "version": "3.8.3"
  }
 },
 "nbformat": 4,
 "nbformat_minor": 2
}
